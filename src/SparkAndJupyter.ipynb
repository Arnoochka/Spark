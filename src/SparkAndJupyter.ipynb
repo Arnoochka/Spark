{
 "cells": [
  {
   "cell_type": "code",
   "execution_count": 1,
   "metadata": {},
   "outputs": [],
   "source": [
    "from pyspark.sql import SparkSession\n",
    "from pyspark.sql.functions import col\n",
    "\n",
    "spark = SparkSession.builder.appName(\"SumJSON\").getOrCreate()"
   ]
  },
  {
   "cell_type": "code",
   "execution_count": 43,
   "metadata": {},
   "outputs": [
    {
     "name": "stdout",
     "output_type": "stream",
     "text": [
      "+---------------+----+----+\n",
      "|_corrupt_record|   a|   b|\n",
      "+---------------+----+----+\n",
      "|              [|NULL|NULL|\n",
      "|           NULL|   1|   2|\n",
      "|           NULL|   3|   4|\n",
      "|           NULL|   5|   6|\n",
      "|              ]|NULL|NULL|\n",
      "+---------------+----+----+\n",
      "\n"
     ]
    }
   ],
   "source": [
    "json_path = \"work/file.json\"\n",
    "df = spark.read.json(json_path)\n",
    "\n",
    "df.show()"
   ]
  },
  {
   "cell_type": "code",
   "execution_count": 44,
   "metadata": {},
   "outputs": [],
   "source": [
    "result_df = df.withColumn(\"sum\", col(\"a\").cast(\"double\") + col(\"b\").cast(\"double\"))"
   ]
  },
  {
   "cell_type": "code",
   "execution_count": 45,
   "metadata": {},
   "outputs": [
    {
     "name": "stdout",
     "output_type": "stream",
     "text": [
      "+---------------+----+----+----+\n",
      "|_corrupt_record|   a|   b| sum|\n",
      "+---------------+----+----+----+\n",
      "|              [|NULL|NULL|NULL|\n",
      "|           NULL|   1|   2| 3.0|\n",
      "|           NULL|   3|   4| 7.0|\n",
      "|           NULL|   5|   6|11.0|\n",
      "|              ]|NULL|NULL|NULL|\n",
      "+---------------+----+----+----+\n",
      "\n"
     ]
    }
   ],
   "source": [
    "result_df.show()"
   ]
  },
  {
   "cell_type": "code",
   "execution_count": null,
   "metadata": {},
   "outputs": [],
   "source": [
    "spark.stop()"
   ]
  }
 ],
 "metadata": {
  "kernelspec": {
   "display_name": "Python 3 (ipykernel)",
   "language": "python",
   "name": "python3"
  },
  "language_info": {
   "codemirror_mode": {
    "name": "ipython",
    "version": 3
   },
   "file_extension": ".py",
   "mimetype": "text/x-python",
   "name": "python",
   "nbconvert_exporter": "python",
   "pygments_lexer": "ipython3",
   "version": "3.11.6"
  }
 },
 "nbformat": 4,
 "nbformat_minor": 2
}
