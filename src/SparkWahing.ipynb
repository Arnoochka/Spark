{
 "cells": [
  {
   "cell_type": "code",
   "execution_count": 1,
   "metadata": {},
   "outputs": [],
   "source": [
    "try:\n",
    "    from pyspark import SparkContext, SparkConf\n",
    "    from pyspark.sql import SparkSession\n",
    "except ImportError as e:\n",
    "    print('<<<<<!!!!! Please restart your kernel after installing Apache Spark !!!!!>>>>>')\n"
   ]
  },
  {
   "cell_type": "code",
   "execution_count": 80,
   "metadata": {},
   "outputs": [],
   "source": [
    "sc = SparkContext.getOrCreate(SparkConf().setMaster(\"local[*]\"))\n",
    "spark = SparkSession.builder.getOrCreate()"
   ]
  },
  {
   "cell_type": "code",
   "execution_count": 81,
   "metadata": {},
   "outputs": [
    {
     "name": "stdout",
     "output_type": "stream",
     "text": [
      "+--------------------+--------------------+-----+--------+----------+---------+--------+-----+-----------+-------------+-------+\n",
      "|                 _id|                _rev|count|flowrate|fluidlevel|frequency|hardness|speed|temperature|           ts|voltage|\n",
      "+--------------------+--------------------+-----+--------+----------+---------+--------+-----+-----------+-------------+-------+\n",
      "|0d86485d0f88d1f9d...|1-57940679fb8a713...|    4|      11|acceptable|     NULL|      77| NULL|        100|1547808723923|   NULL|\n",
      "|0d86485d0f88d1f9d...|1-15ff3a0b304d789...|    2|    NULL|      NULL|     NULL|    NULL| 1046|       NULL|1547808729917|   NULL|\n",
      "|0d86485d0f88d1f9d...|1-97c2742b68c7b07...|    4|    NULL|      NULL|       71|    NULL| NULL|       NULL|1547808731918|    236|\n",
      "|0d86485d0f88d1f9d...|1-eefb903dbe45746...|   19|      11|acceptable|     NULL|      75| NULL|         86|1547808738999|   NULL|\n",
      "|0d86485d0f88d1f9d...|1-5f68b4c72813c25...|    7|    NULL|      NULL|       75|    NULL| NULL|       NULL|1547808740927|    235|\n",
      "|0d86485d0f88d1f9d...|1-cd4b6c57ddbe77e...|    5|    NULL|      NULL|     NULL|    NULL| 1014|       NULL|1547808744923|   NULL|\n",
      "|0d86485d0f88d1f9d...|1-a35b25b5bf43aaf...|   32|      11|acceptable|     NULL|      73| NULL|         84|1547808752028|   NULL|\n",
      "|0d86485d0f88d1f9d...|1-b717f7289a8476d...|   48|      11|acceptable|     NULL|      79| NULL|         84|1547808768065|   NULL|\n",
      "|0d86485d0f88d1f9d...|1-c2f1f8fcf178b2f...|   18|    NULL|      NULL|       73|    NULL| NULL|       NULL|1547808773944|    228|\n",
      "|0d86485d0f88d1f9d...|1-15033dd9eebb4a8...|   59|      11|acceptable|     NULL|      72| NULL|         96|1547808779093|   NULL|\n",
      "|0d86485d0f88d1f9d...|1-753dae825f9a6c2...|   62|      11|acceptable|     NULL|      73| NULL|         88|1547808782113|   NULL|\n",
      "|0d86485d0f88d1f9d...|1-b168089f44f03f0...|   13|    NULL|      NULL|     NULL|    NULL| 1097|       NULL|1547808784940|   NULL|\n",
      "|0d86485d0f88d1f9d...|1-403b687c6be0dea...|   23|    NULL|      NULL|       80|    NULL| NULL|       NULL|1547808788955|    236|\n",
      "|0d86485d0f88d1f9d...|1-195551e0455a24b...|   72|      11|acceptable|     NULL|      77| NULL|         87|1547808792134|   NULL|\n",
      "|0d86485d0f88d1f9d...|1-060a39fc6c2ddee...|   26|    NULL|      NULL|       62|    NULL| NULL|       NULL|1547808797959|    233|\n",
      "|0d86485d0f88d1f9d...|1-2234514bffee465...|   27|    NULL|      NULL|       61|    NULL| NULL|       NULL|1547808800960|    226|\n",
      "|0d86485d0f88d1f9d...|1-4265898bb401db0...|   82|      11|acceptable|     NULL|      79| NULL|         96|1547808802154|   NULL|\n",
      "|0d86485d0f88d1f9d...|1-2fbf7ca9a0425a0...|   94|      11|acceptable|     NULL|      73| NULL|         90|1547808814186|   NULL|\n",
      "|0d86485d0f88d1f9d...|1-203c0ee6d7fbd21...|   97|      11|acceptable|     NULL|      77| NULL|         88|1547808817190|   NULL|\n",
      "|0d86485d0f88d1f9d...|1-47e1965db94fcab...|  104|      11|acceptable|     NULL|      75| NULL|         80|1547808824198|   NULL|\n",
      "+--------------------+--------------------+-----+--------+----------+---------+--------+-----+-----------+-------------+-------+\n",
      "only showing top 20 rows\n",
      "\n"
     ]
    }
   ],
   "source": [
    "df = spark.read.parquet('work/washing.parquet')\n",
    "df.createOrReplaceTempView('washing') \n",
    "df.show() "
   ]
  },
  {
   "cell_type": "markdown",
   "metadata": {},
   "source": [
    "# Assigment 2"
   ]
  },
  {
   "cell_type": "code",
   "execution_count": 82,
   "metadata": {},
   "outputs": [],
   "source": [
    "def count():\n",
    "    return spark.sql('SELECT COUNT(*) as cnt FROM washing').first().cnt"
   ]
  },
  {
   "cell_type": "code",
   "execution_count": 83,
   "metadata": {},
   "outputs": [],
   "source": [
    "def getNumberOfFields():\n",
    "    return len(df.columns)"
   ]
  },
  {
   "cell_type": "code",
   "execution_count": 84,
   "metadata": {},
   "outputs": [],
   "source": [
    "def getFieldNames():\n",
    "    return df.columns"
   ]
  },
  {
   "cell_type": "code",
   "execution_count": 85,
   "metadata": {},
   "outputs": [
    {
     "name": "stdout",
     "output_type": "stream",
     "text": [
      "\n",
      "    Количество строк: 2058\n",
      "    Количество столбцов: 11\n",
      "    Имена столбцов: ['_id', '_rev', 'count', 'flowrate', 'fluidlevel', 'frequency', 'hardness', 'speed', 'temperature', 'ts', 'voltage']\n",
      "    \n"
     ]
    }
   ],
   "source": [
    "cnt = count()\n",
    "nof = getNumberOfFields()\n",
    "fn = getFieldNames()\n",
    "print(\n",
    "    \"\"\"\n",
    "    Количество строк: {}\n",
    "    Количество столбцов: {}\n",
    "    Имена столбцов: {}\n",
    "    \"\"\".format(cnt, nof, fn)\n",
    "    )"
   ]
  },
  {
   "cell_type": "markdown",
   "metadata": {},
   "source": [
    "# Assigment 3"
   ]
  },
  {
   "cell_type": "code",
   "execution_count": 86,
   "metadata": {},
   "outputs": [],
   "source": [
    "def minTemperature():\n",
    "    return spark.sql(\"SELECT MIN(temperature) as mintemp FROM washing\").first().mintemp"
   ]
  },
  {
   "cell_type": "code",
   "execution_count": 87,
   "metadata": {},
   "outputs": [],
   "source": [
    "def meanTemperature():\n",
    "    return spark.sql(\"SELECT MEAN(temperature) as meantemp from washing\").first().meantemp"
   ]
  },
  {
   "cell_type": "code",
   "execution_count": 88,
   "metadata": {},
   "outputs": [],
   "source": [
    "def maxTemperature():\n",
    "    return spark.sql(\"SELECT MAX(temperature) as maxtemp FROM washing\").first().maxtemp"
   ]
  },
  {
   "cell_type": "code",
   "execution_count": 89,
   "metadata": {},
   "outputs": [],
   "source": [
    "def sdTemperature():\n",
    "    return spark.sql(\"SELECT STDDEV_POP(temperature) as sdtemp FROM washing\").first().sdtemp"
   ]
  },
  {
   "cell_type": "code",
   "execution_count": 90,
   "metadata": {},
   "outputs": [],
   "source": [
    "def skewTemperature():    \n",
    "    return spark.sql(\"\"\"\n",
    "SELECT \n",
    "    (\n",
    "        1/COUNT(*)\n",
    "    ) *\n",
    "    SUM (\n",
    "        POWER(temperature-%s,3)/POWER(%s,3)\n",
    "    )\n",
    "\n",
    "as sktemperature from washing\n",
    "                    \"\"\" %(meanTemperature(),sdTemperature())).first().sktemperature"
   ]
  },
  {
   "cell_type": "code",
   "execution_count": 91,
   "metadata": {},
   "outputs": [],
   "source": [
    "def kurtosisTemperature():    \n",
    "        return spark.sql(\"\"\"\n",
    "SELECT \n",
    "    (\n",
    "        1/COUNT(*)\n",
    "    ) *\n",
    "    SUM (\n",
    "        POWER(temperature-%s,4)/POWER(%s,4)\n",
    "    )\n",
    "as ktemperature from washing\n",
    "                    \"\"\" %(meanTemperature(),sdTemperature())).first().ktemperature\n"
   ]
  },
  {
   "cell_type": "code",
   "execution_count": 92,
   "metadata": {},
   "outputs": [],
   "source": [
    "def correlationTemperatureHardness():\n",
    "    return spark.sql(\"SELECT CORR(temperature,hardness) as temperaturehardness from washing\").first().temperaturehardness"
   ]
  },
  {
   "cell_type": "code",
   "execution_count": 93,
   "metadata": {},
   "outputs": [
    {
     "name": "stdout",
     "output_type": "stream",
     "text": [
      "\n",
      "    Минимальная температура: 80\n",
      "    Средняя температура: 90.03800298062593\n",
      "    Максимальная температура: 100\n",
      "    Стандартное отклонение температуры: 6.098487624200337\n",
      "    Асимметрия температуры: 0.006788255973582835\n",
      "    Эксцесс температуры: 1.158158434967638\n",
      "    Корреляция температуры и жесткости: 0.017754069047296324\n",
      "    \n"
     ]
    }
   ],
   "source": [
    "min_temperature = minTemperature()\n",
    "mean_temperature = meanTemperature()\n",
    "max_temperature = maxTemperature()\n",
    "sd_temperature = sdTemperature()\n",
    "skew_temperature = skewTemperature()\n",
    "kurtosis_temperature = kurtosisTemperature()\n",
    "correlation_temperature = correlationTemperatureHardness()\n",
    "\n",
    "print(\n",
    "    \"\"\"\n",
    "    Минимальная температура: {}\n",
    "    Средняя температура: {}\n",
    "    Максимальная температура: {}\n",
    "    Стандартное отклонение температуры: {}\n",
    "    Асимметрия температуры: {}\n",
    "    Эксцесс температуры: {}\n",
    "    Корреляция температуры и жесткости: {}\n",
    "    \"\"\".format(min_temperature,\n",
    "         mean_temperature,\n",
    "         max_temperature,\n",
    "         sd_temperature,\n",
    "         skew_temperature,\n",
    "         kurtosis_temperature,\n",
    "         correlation_temperature)\n",
    ")\n"
   ]
  }
 ],
 "metadata": {
  "kernelspec": {
   "display_name": "Python 3 (ipykernel)",
   "language": "python",
   "name": "python3"
  },
  "language_info": {
   "codemirror_mode": {
    "name": "ipython",
    "version": 3
   },
   "file_extension": ".py",
   "mimetype": "text/x-python",
   "name": "python",
   "nbconvert_exporter": "python",
   "pygments_lexer": "ipython3",
   "version": "3.11.6"
  }
 },
 "nbformat": 4,
 "nbformat_minor": 2
}
